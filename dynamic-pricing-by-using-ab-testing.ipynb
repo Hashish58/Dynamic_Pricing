{
 "cells": [
  {
   "cell_type": "code",
   "execution_count": 1,
   "metadata": {
    "_cell_guid": "b1076dfc-b9ad-4769-8c92-a6c4dae69d19",
    "_uuid": "8f2839f25d086af736a60e9eeb907d3b93b6e0e5",
    "execution": {
     "iopub.execute_input": "2021-02-19T09:11:27.480990Z",
     "iopub.status.busy": "2021-02-19T09:11:27.480408Z",
     "iopub.status.idle": "2021-02-19T09:11:27.493710Z",
     "shell.execute_reply": "2021-02-19T09:11:27.492772Z"
    },
    "papermill": {
     "duration": 0.04284,
     "end_time": "2021-02-19T09:11:27.493954",
     "exception": false,
     "start_time": "2021-02-19T09:11:27.451114",
     "status": "completed"
    },
    "tags": []
   },
   "outputs": [
    {
     "name": "stdout",
     "output_type": "stream",
     "text": [
      "/kaggle/input/pricing/pricing.csv\n"
     ]
    }
   ],
   "source": [
    "# This Python 3 environment comes with many helpful analytics libraries installed\n",
    "# It is defined by the kaggle/python Docker image: https://github.com/kaggle/docker-python\n",
    "# For example, here's several helpful packages to load\n",
    "\n",
    "import numpy as np # linear algebra\n",
    "import pandas as pd # data processing, CSV file I/O (e.g. pd.read_csv)\n",
    "\n",
    "# Input data files are available in the read-only \"../input/\" directory\n",
    "# For example, running this (by clicking run or pressing Shift+Enter) will list all files under the input directory\n",
    "\n",
    "import os\n",
    "for dirname, _, filenames in os.walk('/kaggle/input'):\n",
    "    for filename in filenames:\n",
    "        print(os.path.join(dirname, filename))\n",
    "\n",
    "# You can write up to 20GB to the current directory (/kaggle/working/) that gets preserved as output when you create a version using \"Save & Run All\" \n",
    "# You can also write temporary files to /kaggle/temp/, but they won't be saved outside of the current session"
   ]
  },
  {
   "cell_type": "markdown",
   "metadata": {
    "papermill": {
     "duration": 0.022965,
     "end_time": "2021-02-19T09:11:27.542124",
     "exception": false,
     "start_time": "2021-02-19T09:11:27.519159",
     "status": "completed"
    },
    "tags": []
   },
   "source": [
    "# Business Problem\n",
    "\n",
    "A Game Company gives gift coins to their users for purchasing items.\n",
    "\n",
    "The users purchase various tools for their characters by using this coins.\n",
    "\n",
    "The company does not remark any price for any item and it provides users to buy this item at the price they wanted.\n",
    "\n",
    "In other words while one user pay 30 units for any item, other user also might pay 45 units for the same item. Therefore, users could buy this item with the amounts that they can afford to pay.\n",
    "\n"
   ]
  },
  {
   "cell_type": "markdown",
   "metadata": {
    "papermill": {
     "duration": 0.022913,
     "end_time": "2021-02-19T09:11:27.589543",
     "exception": false,
     "start_time": "2021-02-19T09:11:27.566630",
     "status": "completed"
    },
    "tags": []
   },
   "source": [
    "# Project Goal\n",
    "\n",
    "1. Are there any difference for item's price according to category id's?\n",
    "2. What price should it be for this item?\n",
    "3. The company wants to be flexible for the price. Therefore, create a decision support system for price strategies.\n",
    "4. Simulate item purchases and income for price change possibilities.\n",
    "\n"
   ]
  },
  {
   "cell_type": "markdown",
   "metadata": {
    "papermill": {
     "duration": 0.022866,
     "end_time": "2021-02-19T09:11:27.635637",
     "exception": false,
     "start_time": "2021-02-19T09:11:27.612771",
     "status": "completed"
    },
    "tags": []
   },
   "source": [
    "# Dataset and Descriptive Statistics"
   ]
  },
  {
   "cell_type": "code",
   "execution_count": 2,
   "metadata": {
    "execution": {
     "iopub.execute_input": "2021-02-19T09:11:27.686366Z",
     "iopub.status.busy": "2021-02-19T09:11:27.685752Z",
     "iopub.status.idle": "2021-02-19T09:11:28.344269Z",
     "shell.execute_reply": "2021-02-19T09:11:28.343646Z"
    },
    "papermill": {
     "duration": 0.685579,
     "end_time": "2021-02-19T09:11:28.344422",
     "exception": false,
     "start_time": "2021-02-19T09:11:27.658843",
     "status": "completed"
    },
    "tags": []
   },
   "outputs": [],
   "source": [
    "import seaborn as sns\n",
    "import matplotlib.pyplot as plt\n",
    "import warnings \n",
    "warnings.filterwarnings(\"ignore\")"
   ]
  },
  {
   "cell_type": "code",
   "execution_count": 3,
   "metadata": {
    "execution": {
     "iopub.execute_input": "2021-02-19T09:11:28.396991Z",
     "iopub.status.busy": "2021-02-19T09:11:28.396265Z",
     "iopub.status.idle": "2021-02-19T09:11:28.412763Z",
     "shell.execute_reply": "2021-02-19T09:11:28.412243Z"
    },
    "papermill": {
     "duration": 0.044505,
     "end_time": "2021-02-19T09:11:28.412909",
     "exception": false,
     "start_time": "2021-02-19T09:11:28.368404",
     "status": "completed"
    },
    "tags": []
   },
   "outputs": [],
   "source": [
    "df_ = pd.read_csv(\"/kaggle/input/pricing/pricing.csv\", sep=\";\")\n",
    "df = df_.copy()"
   ]
  },
  {
   "cell_type": "code",
   "execution_count": 4,
   "metadata": {
    "execution": {
     "iopub.execute_input": "2021-02-19T09:11:28.472485Z",
     "iopub.status.busy": "2021-02-19T09:11:28.471855Z",
     "iopub.status.idle": "2021-02-19T09:11:28.486604Z",
     "shell.execute_reply": "2021-02-19T09:11:28.486091Z"
    },
    "papermill": {
     "duration": 0.050138,
     "end_time": "2021-02-19T09:11:28.486732",
     "exception": false,
     "start_time": "2021-02-19T09:11:28.436594",
     "status": "completed"
    },
    "tags": []
   },
   "outputs": [
    {
     "data": {
      "text/html": [
       "<div>\n",
       "<style scoped>\n",
       "    .dataframe tbody tr th:only-of-type {\n",
       "        vertical-align: middle;\n",
       "    }\n",
       "\n",
       "    .dataframe tbody tr th {\n",
       "        vertical-align: top;\n",
       "    }\n",
       "\n",
       "    .dataframe thead th {\n",
       "        text-align: right;\n",
       "    }\n",
       "</style>\n",
       "<table border=\"1\" class=\"dataframe\">\n",
       "  <thead>\n",
       "    <tr style=\"text-align: right;\">\n",
       "      <th></th>\n",
       "      <th>category_id</th>\n",
       "      <th>price</th>\n",
       "    </tr>\n",
       "  </thead>\n",
       "  <tbody>\n",
       "    <tr>\n",
       "      <th>0</th>\n",
       "      <td>489756</td>\n",
       "      <td>32.117753</td>\n",
       "    </tr>\n",
       "    <tr>\n",
       "      <th>1</th>\n",
       "      <td>361254</td>\n",
       "      <td>30.711370</td>\n",
       "    </tr>\n",
       "    <tr>\n",
       "      <th>2</th>\n",
       "      <td>361254</td>\n",
       "      <td>31.572607</td>\n",
       "    </tr>\n",
       "    <tr>\n",
       "      <th>3</th>\n",
       "      <td>489756</td>\n",
       "      <td>34.543840</td>\n",
       "    </tr>\n",
       "    <tr>\n",
       "      <th>4</th>\n",
       "      <td>489756</td>\n",
       "      <td>47.205824</td>\n",
       "    </tr>\n",
       "  </tbody>\n",
       "</table>\n",
       "</div>"
      ],
      "text/plain": [
       "   category_id      price\n",
       "0       489756  32.117753\n",
       "1       361254  30.711370\n",
       "2       361254  31.572607\n",
       "3       489756  34.543840\n",
       "4       489756  47.205824"
      ]
     },
     "execution_count": 4,
     "metadata": {},
     "output_type": "execute_result"
    }
   ],
   "source": [
    "df.head()"
   ]
  },
  {
   "cell_type": "markdown",
   "metadata": {
    "papermill": {
     "duration": 0.02388,
     "end_time": "2021-02-19T09:11:28.534580",
     "exception": false,
     "start_time": "2021-02-19T09:11:28.510700",
     "status": "completed"
    },
    "tags": []
   },
   "source": [
    "> **Defining functions for taking a quick look to dataset**"
   ]
  },
  {
   "cell_type": "code",
   "execution_count": 5,
   "metadata": {
    "execution": {
     "iopub.execute_input": "2021-02-19T09:11:28.585954Z",
     "iopub.status.busy": "2021-02-19T09:11:28.585055Z",
     "iopub.status.idle": "2021-02-19T09:11:28.594856Z",
     "shell.execute_reply": "2021-02-19T09:11:28.595281Z"
    },
    "papermill": {
     "duration": 0.036949,
     "end_time": "2021-02-19T09:11:28.595454",
     "exception": false,
     "start_time": "2021-02-19T09:11:28.558505",
     "status": "completed"
    },
    "tags": []
   },
   "outputs": [],
   "source": [
    "def check_data(dataframe, head=5):\n",
    "    \"\"\"It returns descriptive statistics and information about a given dataset\"\"\"\n",
    "    print (\"####### SHAPE #######\")\n",
    "    print (dataframe.shape)\n",
    "    print (\"####### INFO #######\")\n",
    "    print (dataframe.info ())\n",
    "    print (\"####### DESCRIBE #######\")\n",
    "    print (dataframe.describe ([0.01, 0.1, 0.25, 0.50, 0.75, 0.9, 0.95, 0.99]))\n",
    "    print (\"####### NA VALUES #######\")\n",
    "    print (dataframe.isnull ().sum ())\n",
    "    print (\"####### FIRST {} ROWS #######\".format (head))\n",
    "    print (dataframe.head (head))\n",
    "    \n",
    "def defining_quantile_th(dataframe, col, quantilelow=0, quantileup=1):\n",
    "    \"\"\"It returns, when outliers were truncated by using given quantiles what percentage of observations will be affected\"\"\"\n",
    "    up_ratio = (len (dataframe[dataframe[col] > dataframe[col].quantile (quantileup)]) / dataframe[col].shape[0]) * 100\n",
    "    low_ratio = (len (dataframe[dataframe[col] < dataframe[col].quantile (quantilelow)]) / dataframe[col].shape[\n",
    "        0]) * 100\n",
    "    total_ratio = up_ratio + low_ratio\n",
    "    print (\n",
    "        \"When quantified in the {} - {} range, %{} of customers' data will be truncated.\".format (\n",
    "            quantilelow, quantileup, round (total_ratio, 2)))\n",
    "    \n",
    "def outliers_threshold(dataframe, col, low_ratio, up_ratio):\n",
    "    \"\"\"It truncates the outliers by using given low and up quantiles and assings to given column of dataset\"\"\"\n",
    "    threshold_range = dataframe[col].quantile (up_ratio) - dataframe[col].quantile (low_ratio)\n",
    "    up_limit = dataframe[col].quantile (up_ratio) + 1.5 * threshold_range\n",
    "    low_limit = dataframe[col].quantile (low_ratio) - 1.5 * threshold_range\n",
    "    dataframe.loc[dataframe[col] > up_limit, \"price\"] = up_limit\n",
    "    dataframe.loc[dataframe[col] < low_limit, \"price\"] = low_limit\n",
    "\n"
   ]
  },
  {
   "cell_type": "code",
   "execution_count": 6,
   "metadata": {
    "execution": {
     "iopub.execute_input": "2021-02-19T09:11:28.655329Z",
     "iopub.status.busy": "2021-02-19T09:11:28.654727Z",
     "iopub.status.idle": "2021-02-19T09:11:28.677610Z",
     "shell.execute_reply": "2021-02-19T09:11:28.678080Z"
    },
    "papermill": {
     "duration": 0.058646,
     "end_time": "2021-02-19T09:11:28.678261",
     "exception": false,
     "start_time": "2021-02-19T09:11:28.619615",
     "status": "completed"
    },
    "tags": []
   },
   "outputs": [
    {
     "name": "stdout",
     "output_type": "stream",
     "text": [
      "####### SHAPE #######\n",
      "(3448, 2)\n",
      "####### INFO #######\n",
      "<class 'pandas.core.frame.DataFrame'>\n",
      "RangeIndex: 3448 entries, 0 to 3447\n",
      "Data columns (total 2 columns):\n",
      " #   Column       Non-Null Count  Dtype  \n",
      "---  ------       --------------  -----  \n",
      " 0   category_id  3448 non-null   int64  \n",
      " 1   price        3448 non-null   float64\n",
      "dtypes: float64(1), int64(1)\n",
      "memory usage: 54.0 KB\n",
      "None\n",
      "####### DESCRIBE #######\n",
      "         category_id          price\n",
      "count    3448.000000    3448.000000\n",
      "mean   542415.171984    3254.475770\n",
      "std    192805.689911   25235.799009\n",
      "min    201436.000000      10.000000\n",
      "1%     201436.000000      30.000000\n",
      "10%    361254.000000      30.000000\n",
      "25%    457630.500000      31.890438\n",
      "50%    489756.000000      34.798544\n",
      "75%    675201.000000      41.536211\n",
      "90%    874521.000000      62.505610\n",
      "95%    874521.000000      92.978218\n",
      "99%    874521.000000  201436.464204\n",
      "max    874521.000000  201436.991255\n",
      "####### NA VALUES #######\n",
      "category_id    0\n",
      "price          0\n",
      "dtype: int64\n",
      "####### FIRST 5 ROWS #######\n",
      "   category_id      price\n",
      "0       489756  32.117753\n",
      "1       361254  30.711370\n",
      "2       361254  31.572607\n",
      "3       489756  34.543840\n",
      "4       489756  47.205824\n"
     ]
    }
   ],
   "source": [
    "check_data (df)"
   ]
  },
  {
   "cell_type": "code",
   "execution_count": 7,
   "metadata": {
    "execution": {
     "iopub.execute_input": "2021-02-19T09:11:28.732212Z",
     "iopub.status.busy": "2021-02-19T09:11:28.731567Z",
     "iopub.status.idle": "2021-02-19T09:11:28.750737Z",
     "shell.execute_reply": "2021-02-19T09:11:28.750270Z"
    },
    "papermill": {
     "duration": 0.048302,
     "end_time": "2021-02-19T09:11:28.750862",
     "exception": false,
     "start_time": "2021-02-19T09:11:28.702560",
     "status": "completed"
    },
    "tags": []
   },
   "outputs": [
    {
     "name": "stdout",
     "output_type": "stream",
     "text": [
      "When quantified in the 0.05 - 0.95 range, %5.34 of customers' data will be truncated.\n"
     ]
    }
   ],
   "source": [
    "defining_quantile_th (df, \"price\", 0.05, 0.95) "
   ]
  },
  {
   "cell_type": "code",
   "execution_count": 8,
   "metadata": {
    "execution": {
     "iopub.execute_input": "2021-02-19T09:11:28.804983Z",
     "iopub.status.busy": "2021-02-19T09:11:28.804448Z",
     "iopub.status.idle": "2021-02-19T09:11:28.811307Z",
     "shell.execute_reply": "2021-02-19T09:11:28.811870Z"
    },
    "papermill": {
     "duration": 0.036202,
     "end_time": "2021-02-19T09:11:28.812037",
     "exception": false,
     "start_time": "2021-02-19T09:11:28.775835",
     "status": "completed"
    },
    "tags": []
   },
   "outputs": [
    {
     "data": {
      "text/plain": [
       "30.000000     423\n",
       "35.000000      79\n",
       "10.000000       7\n",
       "33.000000       4\n",
       "200.000000      2\n",
       "             ... \n",
       "30.797158       1\n",
       "34.937488       1\n",
       "32.685002       1\n",
       "34.450954       1\n",
       "34.837568       1\n",
       "Name: price, Length: 2938, dtype: int64"
      ]
     },
     "execution_count": 8,
     "metadata": {},
     "output_type": "execute_result"
    }
   ],
   "source": [
    "df[\"price\"].value_counts ().sort_values (ascending=False)"
   ]
  },
  {
   "cell_type": "code",
   "execution_count": 9,
   "metadata": {
    "execution": {
     "iopub.execute_input": "2021-02-19T09:11:28.867050Z",
     "iopub.status.busy": "2021-02-19T09:11:28.866497Z",
     "iopub.status.idle": "2021-02-19T09:11:29.134316Z",
     "shell.execute_reply": "2021-02-19T09:11:29.133840Z"
    },
    "papermill": {
     "duration": 0.296267,
     "end_time": "2021-02-19T09:11:29.134466",
     "exception": false,
     "start_time": "2021-02-19T09:11:28.838199",
     "status": "completed"
    },
    "tags": []
   },
   "outputs": [
    {
     "data": {
      "image/png": "[encoded data removed]",
      "text/plain": [
       "<Figure size 432x288 with 1 Axes>"
      ]
     },
     "metadata": {
      "needs_background": "light"
     },
     "output_type": "display_data"
    }
   ],
   "source": [
    "# Taking a quick look to the distribution of prices, before data manipulation by using distplot\n",
    "sns.distplot (df[\"price\"])\n",
    "plt.xlabel(\"Price\")\n",
    "plt.ylabel(\"Density\")\n",
    "plt.title(\"Before Data Manipulation, The Distribution of Prices\", size=(15), color=\"blue\")\n",
    "plt.show ();"
   ]
  },
  {
   "cell_type": "code",
   "execution_count": 10,
   "metadata": {
    "execution": {
     "iopub.execute_input": "2021-02-19T09:11:29.191972Z",
     "iopub.status.busy": "2021-02-19T09:11:29.191378Z",
     "iopub.status.idle": "2021-02-19T09:11:29.463042Z",
     "shell.execute_reply": "2021-02-19T09:11:29.462592Z"
    },
    "papermill": {
     "duration": 0.302343,
     "end_time": "2021-02-19T09:11:29.463197",
     "exception": false,
     "start_time": "2021-02-19T09:11:29.160854",
     "status": "completed"
    },
    "tags": []
   },
   "outputs": [
    {
     "data": {
      "image/png": "[encoded data removed]",
      "text/plain": [
       "<Figure size 432x288 with 1 Axes>"
      ]
     },
     "metadata": {
      "needs_background": "light"
     },
     "output_type": "display_data"
    }
   ],
   "source": [
    "# Taking a quick look to the distribution of prices for each category ids, before data manipulation by using boxplot\n",
    "sns.boxplot (x=\"category_id\", y=\"price\", data=df)\n",
    "plt.xlabel(\"Category ID\")\n",
    "plt.ylabel(\"Price\")\n",
    "plt.title(\"Before Data Manipulation, The Distribution of Prices\", size=(15), color=\"blue\")\n",
    "plt.show ();"
   ]
  },
  {
   "cell_type": "markdown",
   "metadata": {
    "papermill": {
     "duration": 0.026733,
     "end_time": "2021-02-19T09:11:29.517220",
     "exception": false,
     "start_time": "2021-02-19T09:11:29.490487",
     "status": "completed"
    },
    "tags": []
   },
   "source": [
    "> **Truncating outliers**"
   ]
  },
  {
   "cell_type": "code",
   "execution_count": 11,
   "metadata": {
    "execution": {
     "iopub.execute_input": "2021-02-19T09:11:29.578438Z",
     "iopub.status.busy": "2021-02-19T09:11:29.577501Z",
     "iopub.status.idle": "2021-02-19T09:11:29.585079Z",
     "shell.execute_reply": "2021-02-19T09:11:29.585567Z"
    },
    "papermill": {
     "duration": 0.040733,
     "end_time": "2021-02-19T09:11:29.585735",
     "exception": false,
     "start_time": "2021-02-19T09:11:29.545002",
     "status": "completed"
    },
    "tags": []
   },
   "outputs": [],
   "source": [
    "outliers_threshold (df, \"price\", 0.05, 0.95)"
   ]
  },
  {
   "cell_type": "code",
   "execution_count": 12,
   "metadata": {
    "execution": {
     "iopub.execute_input": "2021-02-19T09:11:29.655540Z",
     "iopub.status.busy": "2021-02-19T09:11:29.654044Z",
     "iopub.status.idle": "2021-02-19T09:11:29.668347Z",
     "shell.execute_reply": "2021-02-19T09:11:29.667631Z"
    },
    "papermill": {
     "duration": 0.055549,
     "end_time": "2021-02-19T09:11:29.668487",
     "exception": false,
     "start_time": "2021-02-19T09:11:29.612938",
     "status": "completed"
    },
    "tags": []
   },
   "outputs": [
    {
     "name": "stdout",
     "output_type": "stream",
     "text": [
      "####### SHAPE #######\n",
      "(3448, 2)\n",
      "####### INFO #######\n",
      "<class 'pandas.core.frame.DataFrame'>\n",
      "RangeIndex: 3448 entries, 0 to 3447\n",
      "Data columns (total 2 columns):\n",
      " #   Column       Non-Null Count  Dtype  \n",
      "---  ------       --------------  -----  \n",
      " 0   category_id  3448 non-null   int64  \n",
      " 1   price        3448 non-null   float64\n",
      "dtypes: float64(1), int64(1)\n",
      "memory usage: 54.0 KB\n",
      "None\n",
      "####### DESCRIBE #######\n",
      "         category_id        price\n",
      "count    3448.000000  3448.000000\n",
      "mean   542415.171984    43.682471\n",
      "std    192805.689911    28.218201\n",
      "min    201436.000000    10.000000\n",
      "1%     201436.000000    30.000000\n",
      "10%    361254.000000    30.000000\n",
      "25%    457630.500000    31.890438\n",
      "50%    489756.000000    34.798544\n",
      "75%    675201.000000    41.536211\n",
      "90%    874521.000000    62.505610\n",
      "95%    874521.000000    92.978218\n",
      "99%    874521.000000   187.445544\n",
      "max    874521.000000   187.445544\n",
      "####### NA VALUES #######\n",
      "category_id    0\n",
      "price          0\n",
      "dtype: int64\n",
      "####### FIRST 5 ROWS #######\n",
      "   category_id      price\n",
      "0       489756  32.117753\n",
      "1       361254  30.711370\n",
      "2       361254  31.572607\n",
      "3       489756  34.543840\n",
      "4       489756  47.205824\n"
     ]
    }
   ],
   "source": [
    "check_data (df)"
   ]
  },
  {
   "cell_type": "code",
   "execution_count": 13,
   "metadata": {
    "execution": {
     "iopub.execute_input": "2021-02-19T09:11:29.728521Z",
     "iopub.status.busy": "2021-02-19T09:11:29.727811Z",
     "iopub.status.idle": "2021-02-19T09:11:29.734937Z",
     "shell.execute_reply": "2021-02-19T09:11:29.735428Z"
    },
    "papermill": {
     "duration": 0.039002,
     "end_time": "2021-02-19T09:11:29.735602",
     "exception": false,
     "start_time": "2021-02-19T09:11:29.696600",
     "status": "completed"
    },
    "tags": []
   },
   "outputs": [
    {
     "data": {
      "text/plain": [
       "30.000000     423\n",
       "35.000000      79\n",
       "187.445544     77\n",
       "10.000000       7\n",
       "33.000000       4\n",
       "             ... \n",
       "34.937488       1\n",
       "32.685002       1\n",
       "34.450954       1\n",
       "34.619289       1\n",
       "34.837568       1\n",
       "Name: price, Length: 2863, dtype: int64"
      ]
     },
     "execution_count": 13,
     "metadata": {},
     "output_type": "execute_result"
    }
   ],
   "source": [
    "# The distribution of prices after data manipulation\n",
    "df[\"price\"].value_counts ().sort_values (ascending=False)"
   ]
  },
  {
   "cell_type": "code",
   "execution_count": 14,
   "metadata": {
    "execution": {
     "iopub.execute_input": "2021-02-19T09:11:29.810456Z",
     "iopub.status.busy": "2021-02-19T09:11:29.808813Z",
     "iopub.status.idle": "2021-02-19T09:11:30.041721Z",
     "shell.execute_reply": "2021-02-19T09:11:30.041264Z"
    },
    "papermill": {
     "duration": 0.278396,
     "end_time": "2021-02-19T09:11:30.041859",
     "exception": false,
     "start_time": "2021-02-19T09:11:29.763463",
     "status": "completed"
    },
    "tags": []
   },
   "outputs": [
    {
     "data": {
      "image/png": "[encoded data removed]",
      "text/plain": [
       "<Figure size 432x288 with 1 Axes>"
      ]
     },
     "metadata": {
      "needs_background": "light"
     },
     "output_type": "display_data"
    }
   ],
   "source": [
    "# Taking a quick look to the distribution of prices, after data manipulation by using distplot\n",
    "sns.distplot (df[\"price\"])\n",
    "plt.xlabel(\"Price\")\n",
    "plt.ylabel(\"Density\")\n",
    "plt.title(\"After Data Manipulation, The Distribution of Prices\", size=(15), color=\"blue\")\n",
    "plt.show ();"
   ]
  },
  {
   "cell_type": "code",
   "execution_count": 15,
   "metadata": {
    "execution": {
     "iopub.execute_input": "2021-02-19T09:11:30.104208Z",
     "iopub.status.busy": "2021-02-19T09:11:30.103575Z",
     "iopub.status.idle": "2021-02-19T09:11:30.126110Z",
     "shell.execute_reply": "2021-02-19T09:11:30.126650Z"
    },
    "papermill": {
     "duration": 0.056657,
     "end_time": "2021-02-19T09:11:30.126814",
     "exception": false,
     "start_time": "2021-02-19T09:11:30.070157",
     "status": "completed"
    },
    "tags": []
   },
   "outputs": [
    {
     "data": {
      "text/html": [
       "<div>\n",
       "<style scoped>\n",
       "    .dataframe tbody tr th:only-of-type {\n",
       "        vertical-align: middle;\n",
       "    }\n",
       "\n",
       "    .dataframe tbody tr th {\n",
       "        vertical-align: top;\n",
       "    }\n",
       "\n",
       "    .dataframe thead tr th {\n",
       "        text-align: left;\n",
       "    }\n",
       "\n",
       "    .dataframe thead tr:last-of-type th {\n",
       "        text-align: right;\n",
       "    }\n",
       "</style>\n",
       "<table border=\"1\" class=\"dataframe\">\n",
       "  <thead>\n",
       "    <tr>\n",
       "      <th></th>\n",
       "      <th colspan=\"6\" halign=\"left\">price</th>\n",
       "    </tr>\n",
       "    <tr>\n",
       "      <th></th>\n",
       "      <th>count</th>\n",
       "      <th>median</th>\n",
       "      <th>mean</th>\n",
       "      <th>std</th>\n",
       "      <th>min</th>\n",
       "      <th>max</th>\n",
       "    </tr>\n",
       "    <tr>\n",
       "      <th>category_id</th>\n",
       "      <th></th>\n",
       "      <th></th>\n",
       "      <th></th>\n",
       "      <th></th>\n",
       "      <th></th>\n",
       "      <th></th>\n",
       "    </tr>\n",
       "  </thead>\n",
       "  <tbody>\n",
       "    <tr>\n",
       "      <th>201436</th>\n",
       "      <td>97</td>\n",
       "      <td>33.534678</td>\n",
       "      <td>36.175498</td>\n",
       "      <td>8.900154</td>\n",
       "      <td>30.0</td>\n",
       "      <td>74.452929</td>\n",
       "    </tr>\n",
       "    <tr>\n",
       "      <th>326584</th>\n",
       "      <td>145</td>\n",
       "      <td>31.748242</td>\n",
       "      <td>36.739739</td>\n",
       "      <td>17.400222</td>\n",
       "      <td>30.0</td>\n",
       "      <td>187.445544</td>\n",
       "    </tr>\n",
       "    <tr>\n",
       "      <th>361254</th>\n",
       "      <td>620</td>\n",
       "      <td>34.459195</td>\n",
       "      <td>36.702812</td>\n",
       "      <td>16.152671</td>\n",
       "      <td>30.0</td>\n",
       "      <td>187.445544</td>\n",
       "    </tr>\n",
       "    <tr>\n",
       "      <th>489756</th>\n",
       "      <td>1705</td>\n",
       "      <td>35.635784</td>\n",
       "      <td>47.569117</td>\n",
       "      <td>31.258245</td>\n",
       "      <td>10.0</td>\n",
       "      <td>187.445544</td>\n",
       "    </tr>\n",
       "    <tr>\n",
       "      <th>675201</th>\n",
       "      <td>131</td>\n",
       "      <td>33.835566</td>\n",
       "      <td>39.733698</td>\n",
       "      <td>21.512874</td>\n",
       "      <td>30.0</td>\n",
       "      <td>187.445544</td>\n",
       "    </tr>\n",
       "    <tr>\n",
       "      <th>874521</th>\n",
       "      <td>750</td>\n",
       "      <td>34.400860</td>\n",
       "      <td>43.619565</td>\n",
       "      <td>31.356950</td>\n",
       "      <td>10.0</td>\n",
       "      <td>187.445544</td>\n",
       "    </tr>\n",
       "  </tbody>\n",
       "</table>\n",
       "</div>"
      ],
      "text/plain": [
       "            price                                                   \n",
       "            count     median       mean        std   min         max\n",
       "category_id                                                         \n",
       "201436         97  33.534678  36.175498   8.900154  30.0   74.452929\n",
       "326584        145  31.748242  36.739739  17.400222  30.0  187.445544\n",
       "361254        620  34.459195  36.702812  16.152671  30.0  187.445544\n",
       "489756       1705  35.635784  47.569117  31.258245  10.0  187.445544\n",
       "675201        131  33.835566  39.733698  21.512874  30.0  187.445544\n",
       "874521        750  34.400860  43.619565  31.356950  10.0  187.445544"
      ]
     },
     "execution_count": 15,
     "metadata": {},
     "output_type": "execute_result"
    }
   ],
   "source": [
    "# Taking a look to some of descriptive statistics for each category ids\n",
    "df.groupby (\"category_id\").agg ({\"price\": [\"count\", \"median\", \"mean\", \"std\", \"min\", \"max\"]})"
   ]
  },
  {
   "cell_type": "code",
   "execution_count": 16,
   "metadata": {
    "execution": {
     "iopub.execute_input": "2021-02-19T09:11:30.188213Z",
     "iopub.status.busy": "2021-02-19T09:11:30.187634Z",
     "iopub.status.idle": "2021-02-19T09:11:30.385072Z",
     "shell.execute_reply": "2021-02-19T09:11:30.385617Z"
    },
    "papermill": {
     "duration": 0.229853,
     "end_time": "2021-02-19T09:11:30.385789",
     "exception": false,
     "start_time": "2021-02-19T09:11:30.155936",
     "status": "completed"
    },
    "tags": []
   },
   "outputs": [
    {
     "data": {
      "image/png": "[encoded data removed]",
      "text/plain": [
       "<Figure size 432x288 with 1 Axes>"
      ]
     },
     "metadata": {
      "needs_background": "light"
     },
     "output_type": "display_data"
    }
   ],
   "source": [
    "# Taking a quick look to the distribution of prices for each category ids, after data manipulation by using boxplot\n",
    "sns.boxplot (x=\"category_id\", y=\"price\", data=df)\n",
    "plt.xlabel(\"Category ID\")\n",
    "plt.ylabel(\"Price\")\n",
    "plt.title(\"After Data Manipulation, The Distribution of Prices\", size=(15), color=\"blue\")\n",
    "plt.show ();"
   ]
  },
  {
   "cell_type": "markdown",
   "metadata": {
    "papermill": {
     "duration": 0.029678,
     "end_time": "2021-02-19T09:11:30.445465",
     "exception": false,
     "start_time": "2021-02-19T09:11:30.415787",
     "status": "completed"
    },
    "tags": []
   },
   "source": [
    "# A/B Testing\n",
    "\n",
    "Defining functions for checking the normality and do ab testing"
   ]
  },
  {
   "cell_type": "code",
   "execution_count": 17,
   "metadata": {
    "execution": {
     "iopub.execute_input": "2021-02-19T09:11:30.513406Z",
     "iopub.status.busy": "2021-02-19T09:11:30.512816Z",
     "iopub.status.idle": "2021-02-19T09:11:30.515842Z",
     "shell.execute_reply": "2021-02-19T09:11:30.515296Z"
    },
    "papermill": {
     "duration": 0.039754,
     "end_time": "2021-02-19T09:11:30.515975",
     "exception": false,
     "start_time": "2021-02-19T09:11:30.476221",
     "status": "completed"
    },
    "tags": []
   },
   "outputs": [],
   "source": [
    "def normality_test(dataframe, col, class_col):\n",
    "    \"\"\"It returns a dataframe which has normality test results of given column and classes of column. \n",
    "    It also returns two lists while one has classes of column as non-normal distribution \n",
    "    and the other has normal distribution.\"\"\"\n",
    "    # H0 : normal distribution\n",
    "    # H1 : nonnormal distribution\n",
    "    from scipy.stats import shapiro\n",
    "    category_ids = list (set (dataframe[class_col]))\n",
    "    df = pd.DataFrame()\n",
    "    nonnormal = []\n",
    "    normal = []\n",
    "    for i in category_ids:\n",
    "        ttest, p_value = shapiro (dataframe.loc[dataframe[class_col] == i, col])\n",
    "        if p_value < 0.05:\n",
    "            df = df.append({\"Category_ID\":str(i),\"Distribution\": \"Non-normal Distribution\", \"Hypothesis_Situation\":\"H0 was Rejected\"}, ignore_index=True)\n",
    "            nonnormal.append(i)\n",
    "        else:\n",
    "            df = df.append ({\"Category_ID\": str (i), \"Distribution\": \"Normal Distribution\", \"Hypothesis_Situation\":\"H0 was Failed to Reject\"}, ignore_index=True)\n",
    "            normal.append(i)\n",
    "    return nonnormal, normal, df"
   ]
  },
  {
   "cell_type": "code",
   "execution_count": 18,
   "metadata": {
    "execution": {
     "iopub.execute_input": "2021-02-19T09:11:30.579880Z",
     "iopub.status.busy": "2021-02-19T09:11:30.578947Z",
     "iopub.status.idle": "2021-02-19T09:11:30.602995Z",
     "shell.execute_reply": "2021-02-19T09:11:30.602417Z"
    },
    "papermill": {
     "duration": 0.056923,
     "end_time": "2021-02-19T09:11:30.603151",
     "exception": false,
     "start_time": "2021-02-19T09:11:30.546228",
     "status": "completed"
    },
    "tags": []
   },
   "outputs": [],
   "source": [
    "nonnormal_list, normal_list, normality_df = normality_test (df, \"price\",\"category_id\")"
   ]
  },
  {
   "cell_type": "code",
   "execution_count": 19,
   "metadata": {
    "execution": {
     "iopub.execute_input": "2021-02-19T09:11:30.672389Z",
     "iopub.status.busy": "2021-02-19T09:11:30.671740Z",
     "iopub.status.idle": "2021-02-19T09:11:30.675230Z",
     "shell.execute_reply": "2021-02-19T09:11:30.676227Z"
    },
    "papermill": {
     "duration": 0.043171,
     "end_time": "2021-02-19T09:11:30.676400",
     "exception": false,
     "start_time": "2021-02-19T09:11:30.633229",
     "status": "completed"
    },
    "tags": []
   },
   "outputs": [
    {
     "data": {
      "text/html": [
       "<div>\n",
       "<style scoped>\n",
       "    .dataframe tbody tr th:only-of-type {\n",
       "        vertical-align: middle;\n",
       "    }\n",
       "\n",
       "    .dataframe tbody tr th {\n",
       "        vertical-align: top;\n",
       "    }\n",
       "\n",
       "    .dataframe thead th {\n",
       "        text-align: right;\n",
       "    }\n",
       "</style>\n",
       "<table border=\"1\" class=\"dataframe\">\n",
       "  <thead>\n",
       "    <tr style=\"text-align: right;\">\n",
       "      <th></th>\n",
       "      <th>Category_ID</th>\n",
       "      <th>Distribution</th>\n",
       "      <th>Hypothesis_Situation</th>\n",
       "    </tr>\n",
       "  </thead>\n",
       "  <tbody>\n",
       "    <tr>\n",
       "      <th>0</th>\n",
       "      <td>675201</td>\n",
       "      <td>Non-normal Distribution</td>\n",
       "      <td>H0 was Rejected</td>\n",
       "    </tr>\n",
       "    <tr>\n",
       "      <th>1</th>\n",
       "      <td>201436</td>\n",
       "      <td>Non-normal Distribution</td>\n",
       "      <td>H0 was Rejected</td>\n",
       "    </tr>\n",
       "    <tr>\n",
       "      <th>2</th>\n",
       "      <td>361254</td>\n",
       "      <td>Non-normal Distribution</td>\n",
       "      <td>H0 was Rejected</td>\n",
       "    </tr>\n",
       "    <tr>\n",
       "      <th>3</th>\n",
       "      <td>326584</td>\n",
       "      <td>Non-normal Distribution</td>\n",
       "      <td>H0 was Rejected</td>\n",
       "    </tr>\n",
       "    <tr>\n",
       "      <th>4</th>\n",
       "      <td>874521</td>\n",
       "      <td>Non-normal Distribution</td>\n",
       "      <td>H0 was Rejected</td>\n",
       "    </tr>\n",
       "    <tr>\n",
       "      <th>5</th>\n",
       "      <td>489756</td>\n",
       "      <td>Non-normal Distribution</td>\n",
       "      <td>H0 was Rejected</td>\n",
       "    </tr>\n",
       "  </tbody>\n",
       "</table>\n",
       "</div>"
      ],
      "text/plain": [
       "  Category_ID             Distribution Hypothesis_Situation\n",
       "0      675201  Non-normal Distribution      H0 was Rejected\n",
       "1      201436  Non-normal Distribution      H0 was Rejected\n",
       "2      361254  Non-normal Distribution      H0 was Rejected\n",
       "3      326584  Non-normal Distribution      H0 was Rejected\n",
       "4      874521  Non-normal Distribution      H0 was Rejected\n",
       "5      489756  Non-normal Distribution      H0 was Rejected"
      ]
     },
     "execution_count": 19,
     "metadata": {},
     "output_type": "execute_result"
    }
   ],
   "source": [
    "normality_df"
   ]
  },
  {
   "cell_type": "markdown",
   "metadata": {
    "papermill": {
     "duration": 0.030851,
     "end_time": "2021-02-19T09:11:30.737747",
     "exception": false,
     "start_time": "2021-02-19T09:11:30.706896",
     "status": "completed"
    },
    "tags": []
   },
   "source": [
    "> **\"Normal Distribution\" hypothesis is declined for all category ids. It means that all categories are distributed non-normally.Therefore we could skip the Homogeneity of Variance Test. Let's pass to A/B Testing**"
   ]
  },
  {
   "cell_type": "code",
   "execution_count": 20,
   "metadata": {
    "execution": {
     "iopub.execute_input": "2021-02-19T09:11:30.809078Z",
     "iopub.status.busy": "2021-02-19T09:11:30.808152Z",
     "iopub.status.idle": "2021-02-19T09:11:30.811080Z",
     "shell.execute_reply": "2021-02-19T09:11:30.810618Z"
    },
    "papermill": {
     "duration": 0.042256,
     "end_time": "2021-02-19T09:11:30.811229",
     "exception": false,
     "start_time": "2021-02-19T09:11:30.768973",
     "status": "completed"
    },
    "tags": []
   },
   "outputs": [],
   "source": [
    "def nonparametric_ind_ab_test(dataframe, col, class_col, nonnormally_list):\n",
    "    \"\"\"It returns two lists end of the nonparametric independent ab testing \n",
    "    while one has the classes of similar averages \n",
    "    and the other has the classes of different averages.\"\"\"\n",
    "    # H0: There is no difference between the average  of two groups\n",
    "    # H1: There is difference between the average of two groups\n",
    "    from scipy.stats import mannwhitneyu\n",
    "    different_avg = []\n",
    "    similar_avg = []\n",
    "    for i in range (len (nonnormally_list)):\n",
    "        for k in range (i + 1, len (nonnormally_list)):\n",
    "            ttest_lev, p_value_lev = mannwhitneyu ((dataframe.loc[df[class_col] == nonnormally_list[i], col]),\n",
    "                                                   (dataframe.loc[dataframe[class_col] == nonnormally_list[k], col]))\n",
    "            if p_value_lev < 0.05:\n",
    "                different_avg.append ((nonnormally_list[i], nonnormally_list[k]))\n",
    "            else:\n",
    "                similar_avg.append ((nonnormally_list[i], nonnormally_list[k]))\n",
    "    return similar_avg, different_avg"
   ]
  },
  {
   "cell_type": "markdown",
   "metadata": {
    "papermill": {
     "duration": 0.030649,
     "end_time": "2021-02-19T09:11:30.872756",
     "exception": false,
     "start_time": "2021-02-19T09:11:30.842107",
     "status": "completed"
    },
    "tags": []
   },
   "source": [
    "> **Let's take a look at the categories which their averages are similar and different.**"
   ]
  },
  {
   "cell_type": "code",
   "execution_count": 21,
   "metadata": {
    "execution": {
     "iopub.execute_input": "2021-02-19T09:11:30.941234Z",
     "iopub.status.busy": "2021-02-19T09:11:30.940276Z",
     "iopub.status.idle": "2021-02-19T09:11:30.965211Z",
     "shell.execute_reply": "2021-02-19T09:11:30.964640Z"
    },
    "papermill": {
     "duration": 0.061493,
     "end_time": "2021-02-19T09:11:30.965352",
     "exception": false,
     "start_time": "2021-02-19T09:11:30.903859",
     "status": "completed"
    },
    "tags": []
   },
   "outputs": [],
   "source": [
    "sim_avg, diff_avg = nonparametric_ind_ab_test (df, \"price\", \"category_id\", nonnormal_list)"
   ]
  },
  {
   "cell_type": "code",
   "execution_count": 22,
   "metadata": {
    "execution": {
     "iopub.execute_input": "2021-02-19T09:11:31.031088Z",
     "iopub.status.busy": "2021-02-19T09:11:31.030537Z",
     "iopub.status.idle": "2021-02-19T09:11:31.034928Z",
     "shell.execute_reply": "2021-02-19T09:11:31.035404Z"
    },
    "papermill": {
     "duration": 0.039029,
     "end_time": "2021-02-19T09:11:31.035574",
     "exception": false,
     "start_time": "2021-02-19T09:11:30.996545",
     "status": "completed"
    },
    "tags": []
   },
   "outputs": [
    {
     "data": {
      "text/plain": [
       "[(675201, 201436),\n",
       " (675201, 361254),\n",
       " (675201, 874521),\n",
       " (201436, 361254),\n",
       " (201436, 874521)]"
      ]
     },
     "execution_count": 22,
     "metadata": {},
     "output_type": "execute_result"
    }
   ],
   "source": [
    "sim_avg"
   ]
  },
  {
   "cell_type": "code",
   "execution_count": 23,
   "metadata": {
    "execution": {
     "iopub.execute_input": "2021-02-19T09:11:31.100831Z",
     "iopub.status.busy": "2021-02-19T09:11:31.100281Z",
     "iopub.status.idle": "2021-02-19T09:11:31.104876Z",
     "shell.execute_reply": "2021-02-19T09:11:31.105443Z"
    },
    "papermill": {
     "duration": 0.038867,
     "end_time": "2021-02-19T09:11:31.105624",
     "exception": false,
     "start_time": "2021-02-19T09:11:31.066757",
     "status": "completed"
    },
    "tags": []
   },
   "outputs": [
    {
     "data": {
      "text/plain": [
       "[(675201, 326584),\n",
       " (675201, 489756),\n",
       " (201436, 326584),\n",
       " (201436, 489756),\n",
       " (361254, 326584),\n",
       " (361254, 874521),\n",
       " (361254, 489756),\n",
       " (326584, 874521),\n",
       " (326584, 489756),\n",
       " (874521, 489756)]"
      ]
     },
     "execution_count": 23,
     "metadata": {},
     "output_type": "execute_result"
    }
   ],
   "source": [
    "diff_avg"
   ]
  },
  {
   "cell_type": "code",
   "execution_count": 24,
   "metadata": {
    "execution": {
     "iopub.execute_input": "2021-02-19T09:11:31.172266Z",
     "iopub.status.busy": "2021-02-19T09:11:31.171674Z",
     "iopub.status.idle": "2021-02-19T09:11:31.189118Z",
     "shell.execute_reply": "2021-02-19T09:11:31.188678Z"
    },
    "papermill": {
     "duration": 0.051767,
     "end_time": "2021-02-19T09:11:31.189276",
     "exception": false,
     "start_time": "2021-02-19T09:11:31.137509",
     "status": "completed"
    },
    "tags": []
   },
   "outputs": [
    {
     "data": {
      "text/html": [
       "<div>\n",
       "<style scoped>\n",
       "    .dataframe tbody tr th:only-of-type {\n",
       "        vertical-align: middle;\n",
       "    }\n",
       "\n",
       "    .dataframe tbody tr th {\n",
       "        vertical-align: top;\n",
       "    }\n",
       "\n",
       "    .dataframe thead th {\n",
       "        text-align: right;\n",
       "    }\n",
       "</style>\n",
       "<table border=\"1\" class=\"dataframe\">\n",
       "  <thead>\n",
       "    <tr style=\"text-align: right;\">\n",
       "      <th></th>\n",
       "      <th>Category_IDs</th>\n",
       "      <th>AB_Test_Result</th>\n",
       "    </tr>\n",
       "  </thead>\n",
       "  <tbody>\n",
       "    <tr>\n",
       "      <th>0</th>\n",
       "      <td>(675201, 201436)</td>\n",
       "      <td>No difference</td>\n",
       "    </tr>\n",
       "    <tr>\n",
       "      <th>1</th>\n",
       "      <td>(675201, 361254)</td>\n",
       "      <td>No difference</td>\n",
       "    </tr>\n",
       "    <tr>\n",
       "      <th>2</th>\n",
       "      <td>(675201, 874521)</td>\n",
       "      <td>No difference</td>\n",
       "    </tr>\n",
       "    <tr>\n",
       "      <th>3</th>\n",
       "      <td>(201436, 361254)</td>\n",
       "      <td>No difference</td>\n",
       "    </tr>\n",
       "    <tr>\n",
       "      <th>4</th>\n",
       "      <td>(201436, 874521)</td>\n",
       "      <td>No difference</td>\n",
       "    </tr>\n",
       "    <tr>\n",
       "      <th>5</th>\n",
       "      <td>(675201, 326584)</td>\n",
       "      <td>There is a difference</td>\n",
       "    </tr>\n",
       "    <tr>\n",
       "      <th>6</th>\n",
       "      <td>(675201, 489756)</td>\n",
       "      <td>There is a difference</td>\n",
       "    </tr>\n",
       "    <tr>\n",
       "      <th>7</th>\n",
       "      <td>(201436, 326584)</td>\n",
       "      <td>There is a difference</td>\n",
       "    </tr>\n",
       "    <tr>\n",
       "      <th>8</th>\n",
       "      <td>(201436, 489756)</td>\n",
       "      <td>There is a difference</td>\n",
       "    </tr>\n",
       "    <tr>\n",
       "      <th>9</th>\n",
       "      <td>(361254, 326584)</td>\n",
       "      <td>There is a difference</td>\n",
       "    </tr>\n",
       "    <tr>\n",
       "      <th>10</th>\n",
       "      <td>(361254, 874521)</td>\n",
       "      <td>There is a difference</td>\n",
       "    </tr>\n",
       "    <tr>\n",
       "      <th>11</th>\n",
       "      <td>(361254, 489756)</td>\n",
       "      <td>There is a difference</td>\n",
       "    </tr>\n",
       "    <tr>\n",
       "      <th>12</th>\n",
       "      <td>(326584, 874521)</td>\n",
       "      <td>There is a difference</td>\n",
       "    </tr>\n",
       "    <tr>\n",
       "      <th>13</th>\n",
       "      <td>(326584, 489756)</td>\n",
       "      <td>There is a difference</td>\n",
       "    </tr>\n",
       "    <tr>\n",
       "      <th>14</th>\n",
       "      <td>(874521, 489756)</td>\n",
       "      <td>There is a difference</td>\n",
       "    </tr>\n",
       "  </tbody>\n",
       "</table>\n",
       "</div>"
      ],
      "text/plain": [
       "        Category_IDs         AB_Test_Result\n",
       "0   (675201, 201436)          No difference\n",
       "1   (675201, 361254)          No difference\n",
       "2   (675201, 874521)          No difference\n",
       "3   (201436, 361254)          No difference\n",
       "4   (201436, 874521)          No difference\n",
       "5   (675201, 326584)  There is a difference\n",
       "6   (675201, 489756)  There is a difference\n",
       "7   (201436, 326584)  There is a difference\n",
       "8   (201436, 489756)  There is a difference\n",
       "9   (361254, 326584)  There is a difference\n",
       "10  (361254, 874521)  There is a difference\n",
       "11  (361254, 489756)  There is a difference\n",
       "12  (326584, 874521)  There is a difference\n",
       "13  (326584, 489756)  There is a difference\n",
       "14  (874521, 489756)  There is a difference"
      ]
     },
     "execution_count": 24,
     "metadata": {},
     "output_type": "execute_result"
    }
   ],
   "source": [
    "# Converting a dataframe of non-parametric ab testing results.\n",
    "sim_df = pd.DataFrame ({\"Category_IDs\": sim_avg})\n",
    "sim_df[\"AB_Test_Result\"] = \"No difference\"\n",
    "\n",
    "diff_df = pd.DataFrame ({\"Category_IDs\": diff_avg})\n",
    "diff_df[\"AB_Test_Result\"] = \"There is a difference\"\n",
    "\n",
    "ab_test_df = pd.concat ([sim_df, diff_df], axis=0).reset_index (drop=True)\n",
    "ab_test_df "
   ]
  },
  {
   "cell_type": "code",
   "execution_count": 25,
   "metadata": {
    "execution": {
     "iopub.execute_input": "2021-02-19T09:11:31.259100Z",
     "iopub.status.busy": "2021-02-19T09:11:31.258544Z",
     "iopub.status.idle": "2021-02-19T09:11:31.260964Z",
     "shell.execute_reply": "2021-02-19T09:11:31.261431Z"
    },
    "papermill": {
     "duration": 0.040137,
     "end_time": "2021-02-19T09:11:31.261600",
     "exception": false,
     "start_time": "2021-02-19T09:11:31.221463",
     "status": "completed"
    },
    "tags": []
   },
   "outputs": [],
   "source": [
    "def comparing(dataframe, col, class_col, list_):\n",
    "    \"\"\"It compares the classes of column in a given list by using some of descriptive statistics\"\"\"\n",
    "    for i in list_:\n",
    "        new_df = pd.concat ([dataframe[dataframe[class_col] == i[0]], dataframe[dataframe[class_col] == i[1]]],\n",
    "                            axis=0).reset_index (drop=True)\n",
    "        print (new_df.groupby (class_col).agg ({col: [\"mean\", \"median\", \"std\"]}))"
   ]
  },
  {
   "cell_type": "markdown",
   "metadata": {
    "papermill": {
     "duration": 0.031507,
     "end_time": "2021-02-19T09:11:31.325374",
     "exception": false,
     "start_time": "2021-02-19T09:11:31.293867",
     "status": "completed"
    },
    "tags": []
   },
   "source": [
    "> **Comparing descriptive statistics of categories which have different averages**"
   ]
  },
  {
   "cell_type": "code",
   "execution_count": 26,
   "metadata": {
    "execution": {
     "iopub.execute_input": "2021-02-19T09:11:31.394320Z",
     "iopub.status.busy": "2021-02-19T09:11:31.393764Z",
     "iopub.status.idle": "2021-02-19T09:11:31.471925Z",
     "shell.execute_reply": "2021-02-19T09:11:31.471436Z"
    },
    "papermill": {
     "duration": 0.113363,
     "end_time": "2021-02-19T09:11:31.472058",
     "exception": false,
     "start_time": "2021-02-19T09:11:31.358695",
     "status": "completed"
    },
    "tags": []
   },
   "outputs": [
    {
     "name": "stdout",
     "output_type": "stream",
     "text": [
      "                 price                      \n",
      "                  mean     median        std\n",
      "category_id                                 \n",
      "326584       36.739739  31.748242  17.400222\n",
      "675201       39.733698  33.835566  21.512874\n",
      "                 price                      \n",
      "                  mean     median        std\n",
      "category_id                                 \n",
      "489756       47.569117  35.635784  31.258245\n",
      "675201       39.733698  33.835566  21.512874\n",
      "                 price                      \n",
      "                  mean     median        std\n",
      "category_id                                 \n",
      "201436       36.175498  33.534678   8.900154\n",
      "326584       36.739739  31.748242  17.400222\n",
      "                 price                      \n",
      "                  mean     median        std\n",
      "category_id                                 \n",
      "201436       36.175498  33.534678   8.900154\n",
      "489756       47.569117  35.635784  31.258245\n",
      "                 price                      \n",
      "                  mean     median        std\n",
      "category_id                                 \n",
      "326584       36.739739  31.748242  17.400222\n",
      "361254       36.702812  34.459195  16.152671\n",
      "                 price                      \n",
      "                  mean     median        std\n",
      "category_id                                 \n",
      "361254       36.702812  34.459195  16.152671\n",
      "874521       43.619565  34.400860  31.356950\n",
      "                 price                      \n",
      "                  mean     median        std\n",
      "category_id                                 \n",
      "361254       36.702812  34.459195  16.152671\n",
      "489756       47.569117  35.635784  31.258245\n",
      "                 price                      \n",
      "                  mean     median        std\n",
      "category_id                                 \n",
      "326584       36.739739  31.748242  17.400222\n",
      "874521       43.619565  34.400860  31.356950\n",
      "                 price                      \n",
      "                  mean     median        std\n",
      "category_id                                 \n",
      "326584       36.739739  31.748242  17.400222\n",
      "489756       47.569117  35.635784  31.258245\n",
      "                 price                      \n",
      "                  mean     median        std\n",
      "category_id                                 \n",
      "489756       47.569117  35.635784  31.258245\n",
      "874521       43.619565  34.400860  31.356950\n"
     ]
    }
   ],
   "source": [
    "comparing (df, \"price\", \"category_id\", diff_avg) "
   ]
  },
  {
   "cell_type": "markdown",
   "metadata": {
    "papermill": {
     "duration": 0.03207,
     "end_time": "2021-02-19T09:11:31.536633",
     "exception": false,
     "start_time": "2021-02-19T09:11:31.504563",
     "status": "completed"
    },
    "tags": []
   },
   "source": [
    "> **I would like to accept categories which have similar averages as a single category**"
   ]
  },
  {
   "cell_type": "code",
   "execution_count": 27,
   "metadata": {
    "execution": {
     "iopub.execute_input": "2021-02-19T09:11:31.605083Z",
     "iopub.status.busy": "2021-02-19T09:11:31.604546Z",
     "iopub.status.idle": "2021-02-19T09:11:31.610306Z",
     "shell.execute_reply": "2021-02-19T09:11:31.610840Z"
    },
    "papermill": {
     "duration": 0.041695,
     "end_time": "2021-02-19T09:11:31.610998",
     "exception": false,
     "start_time": "2021-02-19T09:11:31.569303",
     "status": "completed"
    },
    "tags": []
   },
   "outputs": [
    {
     "data": {
      "text/plain": [
       "{326584, 489756}"
      ]
     },
     "execution_count": 27,
     "metadata": {},
     "output_type": "execute_result"
    }
   ],
   "source": [
    "similar_categories = set ()\n",
    "for i in sim_avg:\n",
    "    similar_categories.add (i[0])\n",
    "    similar_categories.add (i[1])\n",
    "\n",
    "different_categories = set (df[\"category_id\"].unique()) - similar_categories\n",
    "\n",
    "different_categories"
   ]
  },
  {
   "cell_type": "code",
   "execution_count": 28,
   "metadata": {
    "execution": {
     "iopub.execute_input": "2021-02-19T09:11:31.678650Z",
     "iopub.status.busy": "2021-02-19T09:11:31.678082Z",
     "iopub.status.idle": "2021-02-19T09:11:31.682611Z",
     "shell.execute_reply": "2021-02-19T09:11:31.683114Z"
    },
    "papermill": {
     "duration": 0.039881,
     "end_time": "2021-02-19T09:11:31.683288",
     "exception": false,
     "start_time": "2021-02-19T09:11:31.643407",
     "status": "completed"
    },
    "tags": []
   },
   "outputs": [
    {
     "data": {
      "text/plain": [
       "{201436, 361254, 675201, 874521}"
      ]
     },
     "execution_count": 28,
     "metadata": {},
     "output_type": "execute_result"
    }
   ],
   "source": [
    "similar_categories"
   ]
  },
  {
   "cell_type": "code",
   "execution_count": 29,
   "metadata": {
    "execution": {
     "iopub.execute_input": "2021-02-19T09:11:31.757366Z",
     "iopub.status.busy": "2021-02-19T09:11:31.756789Z",
     "iopub.status.idle": "2021-02-19T09:11:31.759692Z",
     "shell.execute_reply": "2021-02-19T09:11:31.759274Z"
    },
    "papermill": {
     "duration": 0.043728,
     "end_time": "2021-02-19T09:11:31.759822",
     "exception": false,
     "start_time": "2021-02-19T09:11:31.716094",
     "status": "completed"
    },
    "tags": []
   },
   "outputs": [],
   "source": [
    "def price_df(dataframe, low_price, high_price, median_price, method_name):\n",
    "    \"\"\"It returns a dataframe which calculates incomes and count that affected with given low, high and median prices.\"\"\"\n",
    "    mean_price = (low_price + high_price) / 2\n",
    "    income_p_mean = dataframe.loc[dataframe[\"price\"] >= mean_price].shape[0] * mean_price\n",
    "    income_p_median = dataframe.loc[dataframe[\"price\"] >= median_price].shape[0] * median_price\n",
    "    income_p_lower = dataframe.loc[dataframe[\"price\"] >= low_price].shape[0] * low_price\n",
    "    income_p_upper = dataframe.loc[dataframe[\"price\"] >= high_price].shape[0] * high_price\n",
    "    df = pd.DataFrame ({\"Income_according_to_mean\": income_p_mean,\n",
    "                        \"Mean_price\": [mean_price],\n",
    "                        \"Mean_count\": [dataframe.loc[dataframe[\"price\"] >= mean_price].shape[0]],\n",
    "                        \"Income_according_to_median\": income_p_median,\n",
    "                        \"Median_price\":[median_price],\n",
    "                        \"Median_count\":[dataframe.loc[dataframe[\"price\"] >= median_price].shape[0]],\n",
    "                        \"Income_according_to_low_price\": income_p_lower,\n",
    "                        \"Lower_price\": [low_price],\n",
    "                        \"Low_price_count\": [dataframe.loc[dataframe[\"price\"] >= low_price].shape[0]],\n",
    "                        \"Income_according_to_high_price\": income_p_upper,\n",
    "                        \"High_price\": [high_price],\n",
    "                        \"High_price_count\": [dataframe.loc[dataframe[\"price\"] >= high_price].shape[0]]})\n",
    "    df.insert (loc=0, column=\"Method\", value=[method_name])\n",
    "    return df"
   ]
  },
  {
   "cell_type": "markdown",
   "metadata": {
    "papermill": {
     "duration": 0.033052,
     "end_time": "2021-02-19T09:11:31.825970",
     "exception": false,
     "start_time": "2021-02-19T09:11:31.792918",
     "status": "completed"
    },
    "tags": []
   },
   "source": [
    "# Confidence Intervals"
   ]
  },
  {
   "cell_type": "code",
   "execution_count": 30,
   "metadata": {
    "execution": {
     "iopub.execute_input": "2021-02-19T09:11:31.897320Z",
     "iopub.status.busy": "2021-02-19T09:11:31.896700Z",
     "iopub.status.idle": "2021-02-19T09:11:32.059234Z",
     "shell.execute_reply": "2021-02-19T09:11:32.058665Z"
    },
    "papermill": {
     "duration": 0.200491,
     "end_time": "2021-02-19T09:11:32.059373",
     "exception": false,
     "start_time": "2021-02-19T09:11:31.858882",
     "status": "completed"
    },
    "tags": []
   },
   "outputs": [],
   "source": [
    "# Determining lower and upper limits of confidence intervals and average of lower and upper limits and mean values \n",
    "# according to determined categories\n",
    "\n",
    "from statsmodels.stats.api import DescrStatsW\n",
    "\n",
    "lower, upper = DescrStatsW (df[\"price\"]).tconfint_mean ()\n",
    "median_all = df[\"price\"].median()\n",
    "\n",
    "all_df = price_df (df, lower, upper, median_all, \"According_to_all_cat_ids\")"
   ]
  },
  {
   "cell_type": "code",
   "execution_count": 31,
   "metadata": {
    "execution": {
     "iopub.execute_input": "2021-02-19T09:11:32.133038Z",
     "iopub.status.busy": "2021-02-19T09:11:32.132431Z",
     "iopub.status.idle": "2021-02-19T09:11:32.142080Z",
     "shell.execute_reply": "2021-02-19T09:11:32.142522Z"
    },
    "papermill": {
     "duration": 0.049973,
     "end_time": "2021-02-19T09:11:32.142690",
     "exception": false,
     "start_time": "2021-02-19T09:11:32.092717",
     "status": "completed"
    },
    "tags": []
   },
   "outputs": [],
   "source": [
    "low_lim, high_lim = DescrStatsW (df.loc[df[\"category_id\"] != 326584, \"price\"]).tconfint_mean ()\n",
    "median_exc32 = df.loc[df[\"category_id\"] != 326584, \"price\"].median()\n",
    "\n",
    "exc_cat3_df = price_df (df, low_lim, high_lim, median_exc32, \"Excepted_326584_id_prices\")"
   ]
  },
  {
   "cell_type": "code",
   "execution_count": 32,
   "metadata": {
    "execution": {
     "iopub.execute_input": "2021-02-19T09:11:32.213636Z",
     "iopub.status.busy": "2021-02-19T09:11:32.213013Z",
     "iopub.status.idle": "2021-02-19T09:11:32.224833Z",
     "shell.execute_reply": "2021-02-19T09:11:32.225345Z"
    },
    "papermill": {
     "duration": 0.04878,
     "end_time": "2021-02-19T09:11:32.225512",
     "exception": false,
     "start_time": "2021-02-19T09:11:32.176732",
     "status": "completed"
    },
    "tags": []
   },
   "outputs": [],
   "source": [
    "low_limit, high_limit = DescrStatsW (df.loc[df[\"category_id\"] != 489756, \"price\"]).tconfint_mean ()\n",
    "median_exc48 = df.loc[df[\"category_id\"] != 489756, \"price\"].median()\n",
    "\n",
    "exc_cat4_df = price_df (df, low_limit, high_limit, median_exc48, \"Excepted_489756_id_prices\")"
   ]
  },
  {
   "cell_type": "code",
   "execution_count": 33,
   "metadata": {
    "execution": {
     "iopub.execute_input": "2021-02-19T09:11:32.295300Z",
     "iopub.status.busy": "2021-02-19T09:11:32.294700Z",
     "iopub.status.idle": "2021-02-19T09:11:32.308399Z",
     "shell.execute_reply": "2021-02-19T09:11:32.307899Z"
    },
    "papermill": {
     "duration": 0.049675,
     "end_time": "2021-02-19T09:11:32.308541",
     "exception": false,
     "start_time": "2021-02-19T09:11:32.258866",
     "status": "completed"
    },
    "tags": []
   },
   "outputs": [],
   "source": [
    "lower_lim, higher_lim = DescrStatsW (df.loc[(df[\"category_id\"] != 489756) & (df[\"category_id\"] != 326584), \"price\"]).tconfint_mean ()\n",
    "median_similar = df.loc[(df[\"category_id\"] != 489756) & (df[\"category_id\"] != 326584), \"price\"].median()\n",
    "\n",
    "similar_prices_df = price_df (df, lower_lim, higher_lim, median_similar, \"Similar_cat_id_prices\")"
   ]
  },
  {
   "cell_type": "code",
   "execution_count": 34,
   "metadata": {
    "execution": {
     "iopub.execute_input": "2021-02-19T09:11:32.392194Z",
     "iopub.status.busy": "2021-02-19T09:11:32.391289Z",
     "iopub.status.idle": "2021-02-19T09:11:32.398316Z",
     "shell.execute_reply": "2021-02-19T09:11:32.397755Z"
    },
    "papermill": {
     "duration": 0.056214,
     "end_time": "2021-02-19T09:11:32.398462",
     "exception": false,
     "start_time": "2021-02-19T09:11:32.342248",
     "status": "completed"
    },
    "tags": []
   },
   "outputs": [],
   "source": [
    "final_df = pd.concat([all_df, exc_cat3_df, exc_cat4_df, similar_prices_df]).reset_index(drop=True)"
   ]
  },
  {
   "cell_type": "code",
   "execution_count": 35,
   "metadata": {
    "execution": {
     "iopub.execute_input": "2021-02-19T09:11:32.487199Z",
     "iopub.status.busy": "2021-02-19T09:11:32.486281Z",
     "iopub.status.idle": "2021-02-19T09:11:32.502577Z",
     "shell.execute_reply": "2021-02-19T09:11:32.503448Z"
    },
    "papermill": {
     "duration": 0.067122,
     "end_time": "2021-02-19T09:11:32.503639",
     "exception": false,
     "start_time": "2021-02-19T09:11:32.436517",
     "status": "completed"
    },
    "tags": []
   },
   "outputs": [
    {
     "data": {
      "text/html": [
       "<div>\n",
       "<style scoped>\n",
       "    .dataframe tbody tr th:only-of-type {\n",
       "        vertical-align: middle;\n",
       "    }\n",
       "\n",
       "    .dataframe tbody tr th {\n",
       "        vertical-align: top;\n",
       "    }\n",
       "\n",
       "    .dataframe thead th {\n",
       "        text-align: right;\n",
       "    }\n",
       "</style>\n",
       "<table border=\"1\" class=\"dataframe\">\n",
       "  <thead>\n",
       "    <tr style=\"text-align: right;\">\n",
       "      <th></th>\n",
       "      <th>Method</th>\n",
       "      <th>Income_according_to_mean</th>\n",
       "      <th>Mean_price</th>\n",
       "      <th>Mean_count</th>\n",
       "      <th>Income_according_to_median</th>\n",
       "      <th>Median_price</th>\n",
       "      <th>Median_count</th>\n",
       "      <th>Income_according_to_low_price</th>\n",
       "      <th>Lower_price</th>\n",
       "      <th>Low_price_count</th>\n",
       "      <th>Income_according_to_high_price</th>\n",
       "      <th>High_price</th>\n",
       "      <th>High_price_count</th>\n",
       "    </tr>\n",
       "  </thead>\n",
       "  <tbody>\n",
       "    <tr>\n",
       "      <th>0</th>\n",
       "      <td>According_to_all_cat_ids</td>\n",
       "      <td>33023.948406</td>\n",
       "      <td>43.682471</td>\n",
       "      <td>756</td>\n",
       "      <td>59992.690447</td>\n",
       "      <td>34.798544</td>\n",
       "      <td>1724</td>\n",
       "      <td>34192.211589</td>\n",
       "      <td>42.740264</td>\n",
       "      <td>800</td>\n",
       "      <td>31951.269726</td>\n",
       "      <td>44.624678</td>\n",
       "      <td>716</td>\n",
       "    </tr>\n",
       "    <tr>\n",
       "      <th>1</th>\n",
       "      <td>Excepted_326584_id_prices</td>\n",
       "      <td>32374.618826</td>\n",
       "      <td>43.987254</td>\n",
       "      <td>736</td>\n",
       "      <td>59192.818424</td>\n",
       "      <td>34.860317</td>\n",
       "      <td>1698</td>\n",
       "      <td>33679.041907</td>\n",
       "      <td>43.012825</td>\n",
       "      <td>783</td>\n",
       "      <td>31518.139618</td>\n",
       "      <td>44.961683</td>\n",
       "      <td>701</td>\n",
       "    </tr>\n",
       "    <tr>\n",
       "      <th>2</th>\n",
       "      <td>Excepted_489756_id_prices</td>\n",
       "      <td>37687.129635</td>\n",
       "      <td>39.880560</td>\n",
       "      <td>945</td>\n",
       "      <td>67754.149725</td>\n",
       "      <td>34.219268</td>\n",
       "      <td>1980</td>\n",
       "      <td>37537.957453</td>\n",
       "      <td>38.738862</td>\n",
       "      <td>969</td>\n",
       "      <td>36304.698986</td>\n",
       "      <td>41.022259</td>\n",
       "      <td>885</td>\n",
       "    </tr>\n",
       "    <tr>\n",
       "      <th>3</th>\n",
       "      <td>Similar_cat_id_prices</td>\n",
       "      <td>37434.296041</td>\n",
       "      <td>40.165554</td>\n",
       "      <td>932</td>\n",
       "      <td>66286.964222</td>\n",
       "      <td>34.399047</td>\n",
       "      <td>1927</td>\n",
       "      <td>36883.554588</td>\n",
       "      <td>38.947787</td>\n",
       "      <td>947</td>\n",
       "      <td>35962.105139</td>\n",
       "      <td>41.383320</td>\n",
       "      <td>869</td>\n",
       "    </tr>\n",
       "  </tbody>\n",
       "</table>\n",
       "</div>"
      ],
      "text/plain": [
       "                      Method  Income_according_to_mean  Mean_price  \\\n",
       "0   According_to_all_cat_ids              33023.948406   43.682471   \n",
       "1  Excepted_326584_id_prices              32374.618826   43.987254   \n",
       "2  Excepted_489756_id_prices              37687.129635   39.880560   \n",
       "3      Similar_cat_id_prices              37434.296041   40.165554   \n",
       "\n",
       "   Mean_count  Income_according_to_median  Median_price  Median_count  \\\n",
       "0         756                59992.690447     34.798544          1724   \n",
       "1         736                59192.818424     34.860317          1698   \n",
       "2         945                67754.149725     34.219268          1980   \n",
       "3         932                66286.964222     34.399047          1927   \n",
       "\n",
       "   Income_according_to_low_price  Lower_price  Low_price_count  \\\n",
       "0                   34192.211589    42.740264              800   \n",
       "1                   33679.041907    43.012825              783   \n",
       "2                   37537.957453    38.738862              969   \n",
       "3                   36883.554588    38.947787              947   \n",
       "\n",
       "   Income_according_to_high_price  High_price  High_price_count  \n",
       "0                    31951.269726   44.624678               716  \n",
       "1                    31518.139618   44.961683               701  \n",
       "2                    36304.698986   41.022259               885  \n",
       "3                    35962.105139   41.383320               869  "
      ]
     },
     "execution_count": 35,
     "metadata": {},
     "output_type": "execute_result"
    }
   ],
   "source": [
    "final_df"
   ]
  },
  {
   "cell_type": "code",
   "execution_count": 36,
   "metadata": {
    "execution": {
     "iopub.execute_input": "2021-02-19T09:11:32.579184Z",
     "iopub.status.busy": "2021-02-19T09:11:32.578318Z",
     "iopub.status.idle": "2021-02-19T09:11:32.976262Z",
     "shell.execute_reply": "2021-02-19T09:11:32.975802Z"
    },
    "papermill": {
     "duration": 0.434848,
     "end_time": "2021-02-19T09:11:32.976413",
     "exception": false,
     "start_time": "2021-02-19T09:11:32.541565",
     "status": "completed"
    },
    "tags": []
   },
   "outputs": [
    {
     "data": {
      "image/png": "[encoded data removed]",
      "text/plain": [
       "<Figure size 432x288 with 1 Axes>"
      ]
     },
     "metadata": {
      "needs_background": "light"
     },
     "output_type": "display_data"
    }
   ],
   "source": [
    "sns.scatterplot(x=\"Lower_price\", y=\"Income_according_to_low_price\", hue=\"Method\", data=final_df, \n",
    "                size = round(final_df[\"Income_according_to_low_price\"], 2), sizes=(30,300))\n",
    "plt.xlabel(\"Lower Limit of Confidence Interval of 4 Methods\")\n",
    "plt.ylabel(\"Incomes\")\n",
    "plt.title(\"Price-Income\", size=(15), color=\"blue\")\n",
    "plt.show();"
   ]
  },
  {
   "cell_type": "code",
   "execution_count": 37,
   "metadata": {
    "execution": {
     "iopub.execute_input": "2021-02-19T09:11:33.059398Z",
     "iopub.status.busy": "2021-02-19T09:11:33.058787Z",
     "iopub.status.idle": "2021-02-19T09:11:33.062737Z",
     "shell.execute_reply": "2021-02-19T09:11:33.062186Z"
    },
    "papermill": {
     "duration": 0.051025,
     "end_time": "2021-02-19T09:11:33.062866",
     "exception": false,
     "start_time": "2021-02-19T09:11:33.011841",
     "status": "completed"
    },
    "tags": []
   },
   "outputs": [
    {
     "data": {
      "text/html": [
       "<div>\n",
       "<style scoped>\n",
       "    .dataframe tbody tr th:only-of-type {\n",
       "        vertical-align: middle;\n",
       "    }\n",
       "\n",
       "    .dataframe tbody tr th {\n",
       "        vertical-align: top;\n",
       "    }\n",
       "\n",
       "    .dataframe thead th {\n",
       "        text-align: right;\n",
       "    }\n",
       "</style>\n",
       "<table border=\"1\" class=\"dataframe\">\n",
       "  <thead>\n",
       "    <tr style=\"text-align: right;\">\n",
       "      <th></th>\n",
       "      <th>Method</th>\n",
       "      <th>Income_according_to_median</th>\n",
       "      <th>Median_price</th>\n",
       "      <th>Median_count</th>\n",
       "    </tr>\n",
       "  </thead>\n",
       "  <tbody>\n",
       "    <tr>\n",
       "      <th>0</th>\n",
       "      <td>Excepted_489756_id_prices</td>\n",
       "      <td>67754.149725</td>\n",
       "      <td>34.219268</td>\n",
       "      <td>1980</td>\n",
       "    </tr>\n",
       "    <tr>\n",
       "      <th>1</th>\n",
       "      <td>Similar_cat_id_prices</td>\n",
       "      <td>66286.964222</td>\n",
       "      <td>34.399047</td>\n",
       "      <td>1927</td>\n",
       "    </tr>\n",
       "    <tr>\n",
       "      <th>2</th>\n",
       "      <td>According_to_all_cat_ids</td>\n",
       "      <td>59992.690447</td>\n",
       "      <td>34.798544</td>\n",
       "      <td>1724</td>\n",
       "    </tr>\n",
       "    <tr>\n",
       "      <th>3</th>\n",
       "      <td>Excepted_326584_id_prices</td>\n",
       "      <td>59192.818424</td>\n",
       "      <td>34.860317</td>\n",
       "      <td>1698</td>\n",
       "    </tr>\n",
       "  </tbody>\n",
       "</table>\n",
       "</div>"
      ],
      "text/plain": [
       "                      Method  Income_according_to_median  Median_price  \\\n",
       "0  Excepted_489756_id_prices                67754.149725     34.219268   \n",
       "1      Similar_cat_id_prices                66286.964222     34.399047   \n",
       "2   According_to_all_cat_ids                59992.690447     34.798544   \n",
       "3  Excepted_326584_id_prices                59192.818424     34.860317   \n",
       "\n",
       "   Median_count  \n",
       "0          1980  \n",
       "1          1927  \n",
       "2          1724  \n",
       "3          1698  "
      ]
     },
     "execution_count": 37,
     "metadata": {},
     "output_type": "execute_result"
    }
   ],
   "source": [
    "median_df = (final_df[[\"Method\",\"Income_according_to_median\", \"Median_price\", \"Median_count\"]]\n",
    " .sort_values(by=\"Income_according_to_median\",ascending=False)).reset_index(drop=True)\n",
    "\n",
    "median_df"
   ]
  },
  {
   "cell_type": "code",
   "execution_count": 38,
   "metadata": {
    "execution": {
     "iopub.execute_input": "2021-02-19T09:11:33.141233Z",
     "iopub.status.busy": "2021-02-19T09:11:33.140667Z",
     "iopub.status.idle": "2021-02-19T09:11:33.143545Z",
     "shell.execute_reply": "2021-02-19T09:11:33.143076Z"
    },
    "papermill": {
     "duration": 0.044654,
     "end_time": "2021-02-19T09:11:33.143680",
     "exception": false,
     "start_time": "2021-02-19T09:11:33.099026",
     "status": "completed"
    },
    "tags": []
   },
   "outputs": [],
   "source": [
    "temp_df = final_df.drop([\"Income_according_to_median\", \"Median_price\", \"Median_count\"], axis=1)"
   ]
  },
  {
   "cell_type": "code",
   "execution_count": 39,
   "metadata": {
    "execution": {
     "iopub.execute_input": "2021-02-19T09:11:33.226988Z",
     "iopub.status.busy": "2021-02-19T09:11:33.226361Z",
     "iopub.status.idle": "2021-02-19T09:11:33.228189Z",
     "shell.execute_reply": "2021-02-19T09:11:33.228664Z"
    },
    "papermill": {
     "duration": 0.049022,
     "end_time": "2021-02-19T09:11:33.228830",
     "exception": false,
     "start_time": "2021-02-19T09:11:33.179808",
     "status": "completed"
    },
    "tags": []
   },
   "outputs": [],
   "source": [
    "# Arranging a new dataframe according to confidence interval limits and averages\n",
    "\n",
    "low_confint_df = temp_df.iloc[:,4:7]\n",
    "high_confint_df = temp_df.iloc[:, 7:]\n",
    "avg_confint_df = temp_df.iloc[:, 1:4]\n",
    "\n",
    "low_confint_df[\"Approach\"] = \"Lower Limit of Confidence Interval\"\n",
    "high_confint_df[\"Approach\"] = \"Upper Limit of Confidence Interval\"\n",
    "avg_confint_df[\"Approach\"] = \"Average Value of Confidence Interval\"\n",
    "\n",
    "low_confint_df.rename(columns={\"Income_according_to_low_price\":\"Income\",\n",
    "                              \"Lower_price\":\"Price\",\n",
    "                              \"Low_price_count\":\"Count\"}, inplace=True)\n",
    "high_confint_df.rename(columns={\"Income_according_to_high_price\":\"Income\",\n",
    "                              \"High_price\":\"Price\",\n",
    "                              \"High_price_count\":\"Count\"}, inplace=True)\n",
    "avg_confint_df.rename(columns={\"Income_according_to_mean\":\"Income\",\n",
    "                              \"Mean_price\":\"Price\",\n",
    "                              \"Mean_count\":\"Count\"}, inplace=True)"
   ]
  },
  {
   "cell_type": "code",
   "execution_count": 40,
   "metadata": {
    "execution": {
     "iopub.execute_input": "2021-02-19T09:11:33.304370Z",
     "iopub.status.busy": "2021-02-19T09:11:33.303774Z",
     "iopub.status.idle": "2021-02-19T09:11:33.310839Z",
     "shell.execute_reply": "2021-02-19T09:11:33.311333Z"
    },
    "papermill": {
     "duration": 0.046169,
     "end_time": "2021-02-19T09:11:33.311495",
     "exception": false,
     "start_time": "2021-02-19T09:11:33.265326",
     "status": "completed"
    },
    "tags": []
   },
   "outputs": [],
   "source": [
    "conf_list = [high_confint_df, avg_confint_df, low_confint_df]\n",
    "for i in conf_list:\n",
    "    i.insert(0, \"Method\", final_df[[\"Method\"]])"
   ]
  },
  {
   "cell_type": "code",
   "execution_count": 41,
   "metadata": {
    "execution": {
     "iopub.execute_input": "2021-02-19T09:11:33.387666Z",
     "iopub.status.busy": "2021-02-19T09:11:33.387085Z",
     "iopub.status.idle": "2021-02-19T09:11:33.393957Z",
     "shell.execute_reply": "2021-02-19T09:11:33.393485Z"
    },
    "papermill": {
     "duration": 0.046098,
     "end_time": "2021-02-19T09:11:33.394101",
     "exception": false,
     "start_time": "2021-02-19T09:11:33.348003",
     "status": "completed"
    },
    "tags": []
   },
   "outputs": [],
   "source": [
    "conf_df = pd.concat(conf_list, axis=0).reset_index(drop=True)"
   ]
  },
  {
   "cell_type": "code",
   "execution_count": 42,
   "metadata": {
    "execution": {
     "iopub.execute_input": "2021-02-19T09:11:33.476019Z",
     "iopub.status.busy": "2021-02-19T09:11:33.475328Z",
     "iopub.status.idle": "2021-02-19T09:11:33.477597Z",
     "shell.execute_reply": "2021-02-19T09:11:33.477969Z"
    },
    "papermill": {
     "duration": 0.046483,
     "end_time": "2021-02-19T09:11:33.478158",
     "exception": false,
     "start_time": "2021-02-19T09:11:33.431675",
     "status": "completed"
    },
    "tags": []
   },
   "outputs": [],
   "source": [
    "conf_df.insert(4, \"User_Ratio\" ,round(conf_df[\"Count\"]/len(df), 4))\n",
    "conf_df[\"Price\"] = round(conf_df[\"Price\"], 2)\n",
    "conf_df[\"Income\"] = round(conf_df[\"Income\"], 2)"
   ]
  },
  {
   "cell_type": "code",
   "execution_count": 43,
   "metadata": {
    "execution": {
     "iopub.execute_input": "2021-02-19T09:11:33.564729Z",
     "iopub.status.busy": "2021-02-19T09:11:33.555184Z",
     "iopub.status.idle": "2021-02-19T09:11:33.569046Z",
     "shell.execute_reply": "2021-02-19T09:11:33.568584Z"
    },
    "papermill": {
     "duration": 0.05459,
     "end_time": "2021-02-19T09:11:33.569200",
     "exception": false,
     "start_time": "2021-02-19T09:11:33.514610",
     "status": "completed"
    },
    "tags": []
   },
   "outputs": [
    {
     "data": {
      "text/html": [
       "<div>\n",
       "<style scoped>\n",
       "    .dataframe tbody tr th:only-of-type {\n",
       "        vertical-align: middle;\n",
       "    }\n",
       "\n",
       "    .dataframe tbody tr th {\n",
       "        vertical-align: top;\n",
       "    }\n",
       "\n",
       "    .dataframe thead th {\n",
       "        text-align: right;\n",
       "    }\n",
       "</style>\n",
       "<table border=\"1\" class=\"dataframe\">\n",
       "  <thead>\n",
       "    <tr style=\"text-align: right;\">\n",
       "      <th></th>\n",
       "      <th>Method</th>\n",
       "      <th>Income</th>\n",
       "      <th>Price</th>\n",
       "      <th>Count</th>\n",
       "      <th>User_Ratio</th>\n",
       "      <th>Approach</th>\n",
       "    </tr>\n",
       "  </thead>\n",
       "  <tbody>\n",
       "    <tr>\n",
       "      <th>6</th>\n",
       "      <td>Excepted_489756_id_prices</td>\n",
       "      <td>37687.13</td>\n",
       "      <td>39.88</td>\n",
       "      <td>945</td>\n",
       "      <td>0.2741</td>\n",
       "      <td>Average Value of Confidence Interval</td>\n",
       "    </tr>\n",
       "    <tr>\n",
       "      <th>10</th>\n",
       "      <td>Excepted_489756_id_prices</td>\n",
       "      <td>37537.96</td>\n",
       "      <td>38.74</td>\n",
       "      <td>969</td>\n",
       "      <td>0.2810</td>\n",
       "      <td>Lower Limit of Confidence Interval</td>\n",
       "    </tr>\n",
       "    <tr>\n",
       "      <th>7</th>\n",
       "      <td>Similar_cat_id_prices</td>\n",
       "      <td>37434.30</td>\n",
       "      <td>40.17</td>\n",
       "      <td>932</td>\n",
       "      <td>0.2703</td>\n",
       "      <td>Average Value of Confidence Interval</td>\n",
       "    </tr>\n",
       "    <tr>\n",
       "      <th>11</th>\n",
       "      <td>Similar_cat_id_prices</td>\n",
       "      <td>36883.55</td>\n",
       "      <td>38.95</td>\n",
       "      <td>947</td>\n",
       "      <td>0.2747</td>\n",
       "      <td>Lower Limit of Confidence Interval</td>\n",
       "    </tr>\n",
       "    <tr>\n",
       "      <th>2</th>\n",
       "      <td>Excepted_489756_id_prices</td>\n",
       "      <td>36304.70</td>\n",
       "      <td>41.02</td>\n",
       "      <td>885</td>\n",
       "      <td>0.2567</td>\n",
       "      <td>Upper Limit of Confidence Interval</td>\n",
       "    </tr>\n",
       "    <tr>\n",
       "      <th>3</th>\n",
       "      <td>Similar_cat_id_prices</td>\n",
       "      <td>35962.11</td>\n",
       "      <td>41.38</td>\n",
       "      <td>869</td>\n",
       "      <td>0.2520</td>\n",
       "      <td>Upper Limit of Confidence Interval</td>\n",
       "    </tr>\n",
       "    <tr>\n",
       "      <th>8</th>\n",
       "      <td>According_to_all_cat_ids</td>\n",
       "      <td>34192.21</td>\n",
       "      <td>42.74</td>\n",
       "      <td>800</td>\n",
       "      <td>0.2320</td>\n",
       "      <td>Lower Limit of Confidence Interval</td>\n",
       "    </tr>\n",
       "    <tr>\n",
       "      <th>9</th>\n",
       "      <td>Excepted_326584_id_prices</td>\n",
       "      <td>33679.04</td>\n",
       "      <td>43.01</td>\n",
       "      <td>783</td>\n",
       "      <td>0.2271</td>\n",
       "      <td>Lower Limit of Confidence Interval</td>\n",
       "    </tr>\n",
       "    <tr>\n",
       "      <th>4</th>\n",
       "      <td>According_to_all_cat_ids</td>\n",
       "      <td>33023.95</td>\n",
       "      <td>43.68</td>\n",
       "      <td>756</td>\n",
       "      <td>0.2193</td>\n",
       "      <td>Average Value of Confidence Interval</td>\n",
       "    </tr>\n",
       "    <tr>\n",
       "      <th>5</th>\n",
       "      <td>Excepted_326584_id_prices</td>\n",
       "      <td>32374.62</td>\n",
       "      <td>43.99</td>\n",
       "      <td>736</td>\n",
       "      <td>0.2135</td>\n",
       "      <td>Average Value of Confidence Interval</td>\n",
       "    </tr>\n",
       "    <tr>\n",
       "      <th>0</th>\n",
       "      <td>According_to_all_cat_ids</td>\n",
       "      <td>31951.27</td>\n",
       "      <td>44.62</td>\n",
       "      <td>716</td>\n",
       "      <td>0.2077</td>\n",
       "      <td>Upper Limit of Confidence Interval</td>\n",
       "    </tr>\n",
       "    <tr>\n",
       "      <th>1</th>\n",
       "      <td>Excepted_326584_id_prices</td>\n",
       "      <td>31518.14</td>\n",
       "      <td>44.96</td>\n",
       "      <td>701</td>\n",
       "      <td>0.2033</td>\n",
       "      <td>Upper Limit of Confidence Interval</td>\n",
       "    </tr>\n",
       "  </tbody>\n",
       "</table>\n",
       "</div>"
      ],
      "text/plain": [
       "                       Method    Income  Price  Count  User_Ratio  \\\n",
       "6   Excepted_489756_id_prices  37687.13  39.88    945      0.2741   \n",
       "10  Excepted_489756_id_prices  37537.96  38.74    969      0.2810   \n",
       "7       Similar_cat_id_prices  37434.30  40.17    932      0.2703   \n",
       "11      Similar_cat_id_prices  36883.55  38.95    947      0.2747   \n",
       "2   Excepted_489756_id_prices  36304.70  41.02    885      0.2567   \n",
       "3       Similar_cat_id_prices  35962.11  41.38    869      0.2520   \n",
       "8    According_to_all_cat_ids  34192.21  42.74    800      0.2320   \n",
       "9   Excepted_326584_id_prices  33679.04  43.01    783      0.2271   \n",
       "4    According_to_all_cat_ids  33023.95  43.68    756      0.2193   \n",
       "5   Excepted_326584_id_prices  32374.62  43.99    736      0.2135   \n",
       "0    According_to_all_cat_ids  31951.27  44.62    716      0.2077   \n",
       "1   Excepted_326584_id_prices  31518.14  44.96    701      0.2033   \n",
       "\n",
       "                                Approach  \n",
       "6   Average Value of Confidence Interval  \n",
       "10    Lower Limit of Confidence Interval  \n",
       "7   Average Value of Confidence Interval  \n",
       "11    Lower Limit of Confidence Interval  \n",
       "2     Upper Limit of Confidence Interval  \n",
       "3     Upper Limit of Confidence Interval  \n",
       "8     Lower Limit of Confidence Interval  \n",
       "9     Lower Limit of Confidence Interval  \n",
       "4   Average Value of Confidence Interval  \n",
       "5   Average Value of Confidence Interval  \n",
       "0     Upper Limit of Confidence Interval  \n",
       "1     Upper Limit of Confidence Interval  "
      ]
     },
     "execution_count": 43,
     "metadata": {},
     "output_type": "execute_result"
    }
   ],
   "source": [
    "conf_df = conf_df.sort_values(by=\"Income\", ascending=False)\n",
    "conf_df"
   ]
  },
  {
   "cell_type": "code",
   "execution_count": 44,
   "metadata": {
    "execution": {
     "iopub.execute_input": "2021-02-19T09:11:33.663278Z",
     "iopub.status.busy": "2021-02-19T09:11:33.662694Z",
     "iopub.status.idle": "2021-02-19T09:11:34.000120Z",
     "shell.execute_reply": "2021-02-19T09:11:33.999668Z"
    },
    "papermill": {
     "duration": 0.393934,
     "end_time": "2021-02-19T09:11:34.000280",
     "exception": false,
     "start_time": "2021-02-19T09:11:33.606346",
     "status": "completed"
    },
    "tags": []
   },
   "outputs": [
    {
     "data": {
      "image/png": "[encoded data removed]",
      "text/plain": [
       "<Figure size 360x360 with 1 Axes>"
      ]
     },
     "metadata": {
      "needs_background": "light"
     },
     "output_type": "display_data"
    }
   ],
   "source": [
    "sns.lmplot(x=\"Price\", y=\"Income\", data=conf_df)\n",
    "plt.xlim((38, 46))\n",
    "plt.show();"
   ]
  },
  {
   "cell_type": "code",
   "execution_count": 45,
   "metadata": {
    "execution": {
     "iopub.execute_input": "2021-02-19T09:11:34.094677Z",
     "iopub.status.busy": "2021-02-19T09:11:34.093723Z",
     "iopub.status.idle": "2021-02-19T09:11:34.240542Z",
     "shell.execute_reply": "2021-02-19T09:11:34.240999Z"
    },
    "papermill": {
     "duration": 0.202802,
     "end_time": "2021-02-19T09:11:34.241176",
     "exception": false,
     "start_time": "2021-02-19T09:11:34.038374",
     "status": "completed"
    },
    "tags": []
   },
   "outputs": [
    {
     "data": {
      "image/png": "[encoded data removed]",
      "text/plain": [
       "<Figure size 432x288 with 1 Axes>"
      ]
     },
     "metadata": {
      "needs_background": "light"
     },
     "output_type": "display_data"
    }
   ],
   "source": [
    "sns.distplot(conf_df[\"Price\"])\n",
    "plt.show();\n",
    "\n"
   ]
  },
  {
   "cell_type": "markdown",
   "metadata": {
    "papermill": {
     "duration": 0.038167,
     "end_time": "2021-02-19T09:11:34.317896",
     "exception": false,
     "start_time": "2021-02-19T09:11:34.279729",
     "status": "completed"
    },
    "tags": []
   },
   "source": [
    "# Conclusion\n",
    "\n",
    "Prices are not normally distributed according to category ids. That is why non-parametric A/B Testing was performed. As a result of A/B Testing, it was observed that there was no statistically significant difference between the price averages of 201436, 361254, 675201, 874521 category ids and these category ids were accepted as a single category in some calculations. It was observed that the averages of 326584, 489756 category ids were statistically different from the others. These two category ids were evaluated as two seperate groups.\n",
    "\n",
    "Because the data were not normally distributed, the median values of each category were examined. In order to provide price flexibility, calculations were made according to the lower and upper limits of the 95% confidence interval and the average values of the lower and upper limits.\n",
    "\n",
    "What should be the price of the item? The price is determined by four different methods.\n",
    "* To determine the median value of all prices in whole dataset as price without distinction between categories.\n",
    "* To determine the median value of the prices of similar categories as price.\n",
    "* To determine the median value of the prices outside the category id 326584 as price.\n",
    "* To determine the median value of the prices outside the category id 489756 as price.\n",
    "\n",
    "When the median value of the prices other than the 489756 category id is considered as the item price; the item price was 34.21 units, and the total income reached its highest value with 67754.14 units.\n",
    "\n",
    "What should be the price flexibility? The income distribution was examined by determining the lower and upper limit of confidence interval values and the average of the lower and upper limit values of each 4 different methods as price. When the confidence interval of prices outside the category id of 489756 is 39.88 units, which is the average of the lower and upper limit, it has been observed that the income is 37687.13 units and reaches the highest value.\n",
    "\n",
    "It has been observed that the price range is between 38.74 and 44.96 units, and a graph of the income obtained according to the relevant prices has been created. As analyzed on the graph it is seen when the unit price increases, the income decreases.\n",
    " \n",
    "In the analyzed dataset; a single price was applied to all categories because there are no concepts such as cost, category features, flexibility of transition between categories. However, incase of having detailed information about the relevant situations, the pricing specific to each category can be examined in detail.\n",
    "\n"
   ]
  }
 ],
 "metadata": {
  "kernelspec": {
   "display_name": "Python 3",
   "language": "python",
   "name": "python3"
  },
  "language_info": {
   "codemirror_mode": {
    "name": "ipython",
    "version": 3
   },
   "file_extension": ".py",
   "mimetype": "text/x-python",
   "name": "python",
   "nbconvert_exporter": "python",
   "pygments_lexer": "ipython3",
   "version": "3.7.9"
  },
  "papermill": {
   "default_parameters": {},
   "duration": 12.211139,
   "end_time": "2021-02-19T09:11:34.964346",
   "environment_variables": {},
   "exception": null,
   "input_path": "__notebook__.ipynb",
   "output_path": "__notebook__.ipynb",
   "parameters": {},
   "start_time": "2021-02-19T09:11:22.753207",
   "version": "2.2.2"
  }
 },
 "nbformat": 4,
 "nbformat_minor": 4
}
